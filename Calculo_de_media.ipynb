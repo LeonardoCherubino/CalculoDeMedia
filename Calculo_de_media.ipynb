{
  "nbformat": 4,
  "nbformat_minor": 0,
  "metadata": {
    "colab": {
      "name": "Calculo de media.ipynb",
      "provenance": [],
      "collapsed_sections": [],
      "authorship_tag": "ABX9TyMK4Iy6wvjei8AIsPoEnPPE",
      "include_colab_link": true
    },
    "kernelspec": {
      "name": "python3",
      "display_name": "Python 3"
    },
    "language_info": {
      "name": "python"
    }
  },
  "cells": [
    {
      "cell_type": "markdown",
      "metadata": {
        "id": "view-in-github",
        "colab_type": "text"
      },
      "source": [
        "<a href=\"https://colab.research.google.com/github/LeonardoCherubino/CalculoDeMedia/blob/main/Calculo_de_media.ipynb\" target=\"_parent\"><img src=\"https://colab.research.google.com/assets/colab-badge.svg\" alt=\"Open In Colab\"/></a>"
      ]
    },
    {
      "cell_type": "code",
      "execution_count": null,
      "metadata": {
        "id": "Q4iodArpMzue"
      },
      "outputs": [],
      "source": [
        ""
      ]
    },
    {
      "cell_type": "markdown",
      "source": [
        " Faça um Programa que peça as 4 notas bimestrais e mostre a média."
      ],
      "metadata": {
        "id": "P68aX4MTNMkN"
      }
    },
    {
      "cell_type": "code",
      "source": [
        "a = int(input('Entre com a primeira nota '))\n",
        "b = int(input('Entre com a segunda nota '))\n",
        "c = int(input('Entre com a terceira nota '))\n",
        "d = int(input('Entre com a quarta nota '))\n",
        "e = a + b + c + d\n",
        "f = (e / 4)\n",
        "print('A média é {}'.format(f))"
      ],
      "metadata": {
        "colab": {
          "base_uri": "https://localhost:8080/"
        },
        "id": "BLVo2wQ8Nf9e",
        "outputId": "8fd422d1-bedd-445a-a5d8-28a6d1acf691"
      },
      "execution_count": 4,
      "outputs": [
        {
          "output_type": "stream",
          "name": "stdout",
          "text": [
            "Entre com a primeira nota 10\n",
            "Entre com a segunda nota 10\n",
            "Entre com a terceira nota 10\n",
            "Entre com a quarta nota 10\n",
            "A média é 10.0\n"
          ]
        }
      ]
    }
  ]
}